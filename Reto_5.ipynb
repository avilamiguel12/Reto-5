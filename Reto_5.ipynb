{
  "nbformat": 4,
  "nbformat_minor": 0,
  "metadata": {
    "colab": {
      "provenance": []
    },
    "kernelspec": {
      "name": "python3",
      "display_name": "Python 3"
    },
    "language_info": {
      "name": "python"
    }
  },
  "cells": [
    {
      "cell_type": "markdown",
      "source": [
        "# Ejercicio 1\n",
        "\n"
      ],
      "metadata": {
        "id": "di8l7f4q2pp_"
      }
    },
    {
      "cell_type": "code",
      "execution_count": null,
      "metadata": {
        "id": "0uP1nvpjt2qo"
      },
      "outputs": [],
      "source": [
        "import math\n",
        "\n",
        "def generatriz (r2:float, h:float)->float:\n",
        "    return math.sqrt (r2**2+h**2)\n",
        "def volumen_figuras (r1:float,r2:float,h:float)->float:\n",
        "    volumen_esfera=(4*math.pi*r1**3/3)\n",
        "    volumen_cono=(math.pi*r2**2*h/3)\n",
        "    volumen_total=volumen_esfera+volumen_cono\n",
        "    return volumen_total\n",
        "def area_sup (r1:float,r2:float,h:float)->float:\n",
        "    inclinacion=generatriz (r2,h)\n",
        "    area_total=(4*math.pi*r1**2)+(math.pi*inclinacion+math.pi*r2**2)\n",
        "    return area_total\n",
        "if __name__==\"__main__\":\n",
        "    r1 = float (input(\"Ingrese el radio de la esfera: \"))\n",
        "    r2 = float (input(\"Ingrese el radio del cono: \"))\n",
        "    h = float (input(\"Ingrese la altura del cono: \"))\n",
        "\n",
        "    volumen=volumen_figuras (r1,r2,h)\n",
        "    area=area_sup (r1,r2,h)\n",
        "    print (\"El volumen total es\",volumen,\"cm³\")\n",
        "    print (\"El area superficiales\",area,\"cm²\")"
      ]
    },
    {
      "cell_type": "markdown",
      "source": [
        "#Ejercicio 2"
      ],
      "metadata": {
        "id": "Mk_rJyMp23lD"
      }
    },
    {
      "cell_type": "code",
      "source": [
        "import math\n",
        "def area (a:float,b:float,r:float)->float:\n",
        "  area_total=(a*b+2*math.pi*r**2)\n",
        "  return area_total\n",
        "def per (a:float,b:float,r:float)->float:\n",
        "  per_t=2*a+2*b+2*(2*math.pi*r)\n",
        "  return per_t\n",
        "if __name__==\"__main__\":\n",
        "  a=float (input(\"Ingrese el ancho: \"))\n",
        "  b=float (input(\"Ingrese la base: \"))\n",
        "  r=float (input(\"Ingrese el radio: \"))\n",
        "\n",
        "  area_t=area (a,b,r)\n",
        "  perimetro= per (a,b,r)\n",
        "  print (\"El area total de la figura es\",area_t,\"cm²\" )\n",
        "  print (\"El perimetro total de la figura es\",perimetro,\"cm\")\n",
        "\n",
        "\n"
      ],
      "metadata": {
        "id": "V0sdapmxus-f"
      },
      "execution_count": null,
      "outputs": []
    },
    {
      "cell_type": "markdown",
      "source": [
        "#Ejercicio 3"
      ],
      "metadata": {
        "id": "53k2TGGU26uN"
      }
    },
    {
      "cell_type": "code",
      "source": [
        "import math\n",
        "def peso (N,M,K):\n",
        "    peso_t=6*N+7*M+1*K\n",
        "    return peso_t\n",
        "if __name__==\"__main__\":\n",
        "    N=int(input(\"Ingrese en número de gallinas: \"))\n",
        "    M=int(input(\"Ingrese en número de gallos: \"))\n",
        "    K=int(input(\"Ingrese en número de pollitos: \"))\n",
        "\n",
        "    peso_total=peso (N,M,K)\n",
        "    print (\"La cantidad de carne de aves es\",peso_total,\"Kg\")"
      ],
      "metadata": {
        "id": "zJLiAMSizZUl"
      },
      "execution_count": null,
      "outputs": []
    },
    {
      "cell_type": "markdown",
      "source": [
        "#Ejercicio 4"
      ],
      "metadata": {
        "id": "vp-LmX6A3Eou"
      }
    },
    {
      "cell_type": "code",
      "source": [
        "def interes_compuesto (c: float, i: float, n: int) -> float:\n",
        "    tasa_de_interes= i/100\n",
        "    rta_interes= c *((1 + tasa_de_interes)**n)\n",
        "    total= rta_interes\n",
        "    return total\n",
        "\n",
        "if __name__==\"__main__\":\n",
        "    c= float (input(\"Ingrese el valor del prestamo: \"))\n",
        "    i= float (input(\"ingrese la tasa de interes (sin el simbolo)\" ))\n",
        "    n= int (input(\"Ingrese el periodo de tiempo (en meses): \"))\n",
        "\n",
        "    total= interes_compuesto (c, i, n)\n",
        "\n",
        "    print (\"El valor del prestamo es\",total)"
      ],
      "metadata": {
        "id": "7kK99mU63LNy"
      },
      "execution_count": null,
      "outputs": []
    },
    {
      "cell_type": "markdown",
      "source": [
        "#Ejercicio 5"
      ],
      "metadata": {
        "id": "6Nr3nzGZ45LI"
      }
    },
    {
      "cell_type": "code",
      "source": [
        "def promedio (uno: float, dos: float, tres: float, cuatro: float, cinco: float) -> float:\n",
        "    promedio_t = (uno+dos+tres+cuatro+cinco)/5\n",
        "    return promedio_t\n",
        "\n",
        "def promedio_multiplicativo (uno: float, dos: float, tres: float, cuatro: float, cinco: float) -> float:\n",
        "    promedio_multiplicativo_t= (uno*dos*tres*cuatro*cinco)**(1/5)\n",
        "    return promedio_multiplicativo_t\n",
        "\n",
        "def potencias (uno: float, dos: float, tres: float, cuatro: float, cinco: float) -> float:\n",
        "    numeros = [uno,dos,tres,cuatro,cinco]\n",
        "\n",
        "    numero_mayor= max (numeros)\n",
        "    numero_menor= min (numeros)\n",
        "    rta_potencias= numero_mayor**numero_menor\n",
        "\n",
        "    return rta_potencias\n",
        "\n",
        "def raiz (uno: float, dos: float, tres: float, cuatro: float, cinco: float) -> float:\n",
        "    numeros2 = [uno,dos,tres,cuatro,cinco]\n",
        "\n",
        "    numero_menor_2= min (numeros2)\n",
        "    raiz_cubica= numero_menor_2**(1/3)\n",
        "\n",
        "    return raiz_cubica\n",
        "\n",
        "if __name__== \"__main__\":\n",
        "\n",
        "    uno= float(input(\"Ingrese el primer numero: \"))\n",
        "    dos= float(input(\"Ingrese el segundo numero: \"))\n",
        "    tres= float(input(\"Ingrese el tercer numero: \"))\n",
        "    cuatro= float(input(\"Ingrese el cuarto numero: \"))\n",
        "    cinco= float(input(\"Ingrese el quinto numero: \"))\n",
        "\n",
        "    rta_promedio= promedio (uno,dos,tres,cuatro,cinco)\n",
        "    rta_promedio_multi= promedio_multiplicativo (uno,dos,tres,cuatro,cinco)\n",
        "    rta_potencia= potencias(uno,dos,tres,cuatro,cinco)\n",
        "    rta_raiz= raiz(uno,dos,tres,cuatro,cinco)\n",
        "\n",
        "\n",
        "\n",
        "    print (\"El promedio es\",rta_promedio)\n",
        "    print (\"El promedio multiplicativo es\",rta_promedio_multi)\n",
        "    print (\"La potencia del mayor número elevado al menor número es\",rta_potencia)\n",
        "    print (\"La raíz cúbica del menor número es\",rta_raiz)"
      ],
      "metadata": {
        "id": "PddsAP0O48VU"
      },
      "execution_count": null,
      "outputs": []
    },
    {
      "cell_type": "markdown",
      "source": [
        "#Ejercicio 6\n",
        "¿Qué es pip?\n",
        "\n",
        "Es una herramienta para la gestión de paquetes y librerias que originalmente no estan inlcuidos dentro de phyton. Estos paquetes de software son módulos que pueden ser usados en una gran variedad de proyectos, pues tienen la capacidad de facilitar una gran variedad de operaciones y procesos; por ejemplo en las matemáticas o analisis de datos.\n",
        "\n"
      ],
      "metadata": {
        "id": "dMDt5ovcGtQV"
      }
    },
    {
      "cell_type": "markdown",
      "source": [
        "#Ejercicio 7\n",
        "¿Como instalar módulos pip en python?\n",
        "\n",
        "Para saber si pip esta instalado se usa el codigo: py -m pip --version\n",
        "Despues de asegurarse que pip esta intalado, para instalar módulos se usa:\n",
        "\n",
        "pip install nombre_del_programa\n",
        "\n",
        "Módulos populares para python\n",
        "\n",
        "\n",
        "\n",
        "*   TensorFlow: Puede ejecutar algoritmos estándar de aprendizaje automático, crear redes neuronales y realizar cálculos numéricos. Sin embargo, se necesita un profundo conocimiento de los vectores y el álgebra\n",
        "*   Matplotlib: Es una biblioteca de trazado de gráficos 2D.\n",
        "\n",
        "\n",
        "*   Numpy: Nos permite trabajar con arrays multidimensionales. La implementación de arrays no existe en Python.\n",
        "*   Colorama: Para imprimir texto en colores en la consola.\n",
        "\n",
        "\n",
        "\n",
        "\n"
      ],
      "metadata": {
        "id": "eqE6q25cHlwL"
      }
    }
  ]
}